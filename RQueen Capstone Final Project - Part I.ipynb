{
    "cells": [
        {
            "cell_type": "markdown",
            "metadata": {
                "collapsed": true
            },
            "source": "<table style=\"border: 1px solid white !important;\">\n    <tr>\n        <td>\n            <div align=\"center\"><h3><u>1990</u></h3></div>\n            <br />\n            <img src=\"https://images.procon.org/wp-content/uploads/sites/15/1990-us-obesity-map.jpg\" width=\"400\" />\n        </td>\n        <td>\n            <div align=\"center\">\n                <h1>Comparing Community Demographics<br />to Fast Food Appetites</h1>\n                <h3>By: Richard Queen</h3>\n                <h3>Coursera Data Science Capstone Project</h3>\n            </div>\n        </td>\n        <td>\n            <div align=\"center\"><h3><u>2017</u></h3></div>\n            <br />\n            <img src=\"https://images.procon.org/wp-content/uploads/sites/15/2017-us-obesity-map.jpg\" width=\"400\" />\n        </td>\n    </tr>\n</table>\n<hr />"
        },
        {
            "cell_type": "markdown",
            "metadata": {},
            "source": "### Table of Contents\n* [I. Introduction](#intro)\n    * [A. Description & Discussion](#description)\n    * [B. Data Sources Used](#data)\n* [II. Methodology](#method)\n* [III. Results](#results)\n* [IV. Discussion](#discussion)\n* [V. Conclusion](#conclusion)\n* [VI. References](#references)"
        },
        {
            "cell_type": "markdown",
            "metadata": {},
            "source": "<div id=\"intro\"><h1>I. Introduction</h1></div>"
        },
        {
            "cell_type": "markdown",
            "metadata": {},
            "source": "<div id=\"description\"><h2>A. Description & Discussion</h2></div>"
        },
        {
            "cell_type": "markdown",
            "metadata": {},
            "source": "<div style=\"margin: 0 auto; width:1000px;\">\n    <p>\n        <img src=\"https://www.weightwatchers.com/us/sites/default/files/styles/wwvs_image_original/public/bmi_graph_rev_600x400_title.png?itok=g2ssXFbJ\" width=\"400\" align=\"right\" />\n        It's no secret that obesity has become a major healthcare problem in the United States.  Not only does the U.S. have higher obesity rates than other countries but the prevalence of obesity has drastically increased in recent decades.  As the prevalence maps in the title of this paper indicate, from 1990 to 2017, obesity rates in the U.S. rose an average of 175.7% across the country, with multiple southern states leading the way at more than a 220% increase.  While the country saw an 11.1% obesity rate in 1990, today almost 31% of Americans find themselves significantly overweight.  Body Mass Index (BMI) is the metric used to determine one\u2019s obesity status and higher BMI rates are directly correlated with mortality rate increases in a healthcare setting.  Aside from mortality, higher BMI rates cause complications and lead to higher risks for chronic diseases such as heart failure, diabetes, and others.\n    </p>\n    <p>\n        BMI is considered Protected Health Information (PHI) in the U.S. so while it is not possible to study BMI at the community level, it is generally understood and accepted that Fast Food restaurants and menus play a contributing factor to society\u2019s BMI growth.  Today\u2019s Fast Food portions are more than four times what they were in the 1950\u2019s and Fast Food chains have exploded in growth during that time, becoming one of America\u2019s favorite meal options.\n    </p>\n    <p>\n        <img src=\"https://youngwomenshealth.org/wp-content/uploads/2014/02/fast-food.jpg\" align=\"left\" />\n        By combining data sources from the <a href=\"https://www.census.gov/data/developers/data-sets/acs-5year.html\">US Census Bureau</a> on community demographics with data from <a href=\"https://www.foursquare.com\">Foursquare</a> location services, containing community member\u2019s top food choices, I would like to see what correlations exist.  According to an article published by the <a href=\"https://www.ncbi.nlm.nih.gov/pmc/articles/PMC3101796/\">National Institute of Health</a>, higher obesity rates are seen in lower income populations.  When studying socioeconomic factors such as poverty rates, income levels, and unemployment rates, a significant correlation was seen between the quality and amount of food (Fast Food) consumed in low income populations and their associated obesity rates.\n    </p>\n    <p>\n        Being a resident of Eastern Kentucky, I would like to study this correlation in my tri-state area of Kentucky, Ohio, and West Virginia.  By separately clustering communities, first based on socioeconomic factors, and second based on food choices, I will analyze communities within a 150 mile radius around Eastern KY, looking at any correlation.  The below table shows that all three of these states rank in the top 15 states in the U.S. for obesity rates. My assumption is that, by using unsupervised clustering methods, I will find a direct positive correlation in communities who choose more Fast Food options also having lower socioeconomic status when measuring income levels, unemployment, and other factors.\n    </p>\n</div>"
        },
        {
            "cell_type": "code",
            "execution_count": 39,
            "metadata": {},
            "outputs": [
                {
                    "data": {
                        "text/html": "<div>\n<style scoped>\n    .dataframe tbody tr th:only-of-type {\n        vertical-align: middle;\n    }\n\n    .dataframe tbody tr th {\n        vertical-align: top;\n    }\n\n    .dataframe thead th {\n        text-align: right;\n    }\n</style>\n<table border=\"1\" class=\"dataframe\">\n  <thead>\n    <tr style=\"text-align: right;\">\n      <th></th>\n      <th>2017Rank</th>\n      <th>2017PopObese</th>\n      <th>State</th>\n      <th>90to17Change</th>\n      <th>1990PopObese</th>\n      <th>1990Rank</th>\n    </tr>\n  </thead>\n  <tbody>\n    <tr>\n      <th>0</th>\n      <td>1</td>\n      <td>38.10%</td>\n      <td>West Virginia</td>\n      <td>178.10%</td>\n      <td>13.70%</td>\n      <td>4.0</td>\n    </tr>\n    <tr>\n      <th>7</th>\n      <td>8</td>\n      <td>34.30%</td>\n      <td>Kentucky</td>\n      <td>170.10%</td>\n      <td>12.70%</td>\n      <td>9.0</td>\n    </tr>\n    <tr>\n      <th>10</th>\n      <td>11</td>\n      <td>33.80%</td>\n      <td>Ohio</td>\n      <td>199.10%</td>\n      <td>11.30%</td>\n      <td>17.0</td>\n    </tr>\n  </tbody>\n</table>\n</div>",
                        "text/plain": "    2017Rank 2017PopObese          State 90to17Change 1990PopObese  1990Rank\n0          1       38.10%  West Virginia      178.10%       13.70%       4.0\n7          8       34.30%       Kentucky      170.10%       12.70%       9.0\n10        11       33.80%           Ohio      199.10%       11.30%      17.0"
                    },
                    "execution_count": 39,
                    "metadata": {},
                    "output_type": "execute_result"
                }
            ],
            "source": "obesity_df = pd.read_csv(obesity)\nobesity_df[obesity_df['State'].isin(['Kentucky','Ohio','West Virginia'])]"
        },
        {
            "cell_type": "markdown",
            "metadata": {},
            "source": "<div id=\"data\"><h2>B. Data Sources Used</h2></div>"
        },
        {
            "cell_type": "markdown",
            "metadata": {},
            "source": "### Hidden cell to call needed data source files"
        },
        {
            "cell_type": "code",
            "execution_count": 2,
            "metadata": {},
            "outputs": [],
            "source": "# The code was removed by Watson Studio for sharing."
        },
        {
            "cell_type": "markdown",
            "metadata": {},
            "source": "### Data Source 1: Census Data for KY, OH, and WV"
        },
        {
            "cell_type": "markdown",
            "metadata": {},
            "source": "<div style=\"margin: 0 auto; width:1000px;\">\n    <p>\n        My first data source comes from the U.S. Census Bureau, more specifically, the American Community Survey results, which are available through a web API.  This data source will provide demographic information at the zip code level for the states being analyzed.  Feature data items will include age, population, poverty level, education level, race, income levels, home values, and more.  Features will be analyzed to determine which items to use for the clustering algorithms.  I will be utilizing the latitude, longitude, and city name items to interact with the Foursquare API to retrieve top food choices for each community.  Below is a preview of data available in a few West Virginia cities.\n    </p>\n</div>"
        },
        {
            "cell_type": "code",
            "execution_count": 8,
            "metadata": {},
            "outputs": [
                {
                    "name": "stdout",
                    "output_type": "stream",
                    "text": "(2232, 35)\n"
                },
                {
                    "data": {
                        "text/html": "<div>\n<style scoped>\n    .dataframe tbody tr th:only-of-type {\n        vertical-align: middle;\n    }\n\n    .dataframe tbody tr th {\n        vertical-align: top;\n    }\n\n    .dataframe thead th {\n        text-align: right;\n    }\n</style>\n<table border=\"1\" class=\"dataframe\">\n  <thead>\n    <tr style=\"text-align: right;\">\n      <th></th>\n      <th>ZIP</th>\n      <th>CITY</th>\n      <th>COUNTY</th>\n      <th>STATEID</th>\n      <th>STATE</th>\n      <th>LAT</th>\n      <th>LNG</th>\n      <th>TIMEZONE</th>\n      <th>MEDIAN_AGE</th>\n      <th>POPULATION</th>\n      <th>...</th>\n      <th>VOTING_POPULATION</th>\n      <th>BELOW_POVERTY_LEVEL_%</th>\n      <th>EDU_HS_OR_ABOVE_%</th>\n      <th>EDU_BS_OR_AVOVE_%</th>\n      <th>M_PER_100_F</th>\n      <th>AGE_UNDER_18_%</th>\n      <th>AGE_65_OR_ABOVE_%</th>\n      <th>RACE_WHITE_%</th>\n      <th>RACE_BLACK_%</th>\n      <th>RACE_ASIAN_%</th>\n    </tr>\n  </thead>\n  <tbody>\n    <tr>\n      <th>0</th>\n      <td>24701</td>\n      <td>Bluefield</td>\n      <td>Mercer</td>\n      <td>WV</td>\n      <td>West Virginia</td>\n      <td>37.30095</td>\n      <td>-81.20655</td>\n      <td>America/New_York</td>\n      <td>44.1</td>\n      <td>19621</td>\n      <td>...</td>\n      <td>15372</td>\n      <td>20.9</td>\n      <td>81.4</td>\n      <td>18.6</td>\n      <td>88.3</td>\n      <td>21.0</td>\n      <td>19.9</td>\n      <td>83.9</td>\n      <td>14.2</td>\n      <td>0.2</td>\n    </tr>\n    <tr>\n      <th>1</th>\n      <td>24712</td>\n      <td>Athens</td>\n      <td>Mercer</td>\n      <td>WV</td>\n      <td>West Virginia</td>\n      <td>37.46458</td>\n      <td>-81.01405</td>\n      <td>America/New_York</td>\n      <td>24.7</td>\n      <td>2095</td>\n      <td>...</td>\n      <td>1811</td>\n      <td>18.0</td>\n      <td>81.2</td>\n      <td>32.9</td>\n      <td>122.2</td>\n      <td>10.1</td>\n      <td>16.8</td>\n      <td>90.5</td>\n      <td>7.0</td>\n      <td>0.5</td>\n    </tr>\n    <tr>\n      <th>2</th>\n      <td>24714</td>\n      <td>Beeson</td>\n      <td>Mercer</td>\n      <td>WV</td>\n      <td>West Virginia</td>\n      <td>37.47671</td>\n      <td>-81.18917</td>\n      <td>America/New_York</td>\n      <td>60.3</td>\n      <td>232</td>\n      <td>...</td>\n      <td>205</td>\n      <td>8.5</td>\n      <td>79.4</td>\n      <td>0.0</td>\n      <td>118.9</td>\n      <td>11.6</td>\n      <td>30.2</td>\n      <td>100.0</td>\n      <td>0.0</td>\n      <td>0.0</td>\n    </tr>\n    <tr>\n      <th>3</th>\n      <td>24715</td>\n      <td>Bramwell</td>\n      <td>Mercer</td>\n      <td>WV</td>\n      <td>West Virginia</td>\n      <td>37.34319</td>\n      <td>-81.32865</td>\n      <td>America/New_York</td>\n      <td>52.8</td>\n      <td>484</td>\n      <td>...</td>\n      <td>448</td>\n      <td>30.5</td>\n      <td>74.6</td>\n      <td>9.5</td>\n      <td>92.1</td>\n      <td>7.4</td>\n      <td>17.6</td>\n      <td>97.9</td>\n      <td>0.2</td>\n      <td>0.2</td>\n    </tr>\n    <tr>\n      <th>4</th>\n      <td>24724</td>\n      <td>Freeman</td>\n      <td>Mercer</td>\n      <td>WV</td>\n      <td>West Virginia</td>\n      <td>37.33081</td>\n      <td>-81.29975</td>\n      <td>America/New_York</td>\n      <td>43.5</td>\n      <td>117</td>\n      <td>...</td>\n      <td>92</td>\n      <td>2.9</td>\n      <td>97.0</td>\n      <td>40.3</td>\n      <td>225.0</td>\n      <td>21.4</td>\n      <td>8.5</td>\n      <td>94.9</td>\n      <td>5.1</td>\n      <td>0.0</td>\n    </tr>\n  </tbody>\n</table>\n<p>5 rows \u00d7 35 columns</p>\n</div>",
                        "text/plain": "     ZIP       CITY  COUNTY STATEID          STATE       LAT       LNG  \\\n0  24701  Bluefield  Mercer      WV  West Virginia  37.30095 -81.20655   \n1  24712     Athens  Mercer      WV  West Virginia  37.46458 -81.01405   \n2  24714     Beeson  Mercer      WV  West Virginia  37.47671 -81.18917   \n3  24715   Bramwell  Mercer      WV  West Virginia  37.34319 -81.32865   \n4  24724    Freeman  Mercer      WV  West Virginia  37.33081 -81.29975   \n\n           TIMEZONE  MEDIAN_AGE  POPULATION  ...  VOTING_POPULATION  \\\n0  America/New_York        44.1       19621  ...              15372   \n1  America/New_York        24.7        2095  ...               1811   \n2  America/New_York        60.3         232  ...                205   \n3  America/New_York        52.8         484  ...                448   \n4  America/New_York        43.5         117  ...                 92   \n\n   BELOW_POVERTY_LEVEL_%  EDU_HS_OR_ABOVE_%  EDU_BS_OR_AVOVE_%  M_PER_100_F  \\\n0                   20.9               81.4               18.6         88.3   \n1                   18.0               81.2               32.9        122.2   \n2                    8.5               79.4                0.0        118.9   \n3                   30.5               74.6                9.5         92.1   \n4                    2.9               97.0               40.3        225.0   \n\n   AGE_UNDER_18_%  AGE_65_OR_ABOVE_%  RACE_WHITE_%  RACE_BLACK_%  RACE_ASIAN_%  \n0            21.0               19.9          83.9          14.2           0.2  \n1            10.1               16.8          90.5           7.0           0.5  \n2            11.6               30.2         100.0           0.0           0.0  \n3             7.4               17.6          97.9           0.2           0.2  \n4            21.4                8.5          94.9           5.1           0.0  \n\n[5 rows x 35 columns]"
                    },
                    "execution_count": 8,
                    "metadata": {},
                    "output_type": "execute_result"
                }
            ],
            "source": "import pandas as pd\n# Import census info for states of KY, OH, and WV\ncensus_df = pd.read_csv(census_file)\ncensus_df = census_df[census_df['STATEID'].isin(['KY','OH','WV'])]\ncensus_df.reset_index(inplace=True, drop=True)\nprint(census_df.shape)\ncensus_df.head()"
        },
        {
            "cell_type": "markdown",
            "metadata": {},
            "source": "### Data Source 2: Top Venues by Community - Example: Catlettsburg, KY"
        },
        {
            "cell_type": "markdown",
            "metadata": {},
            "source": "<div style=\"margin: 0 auto; width:1000px;\">\n    <p>\n        My second data source comes from the Foursquare locations API which offers real-time access to locations, venues, recommendations, check-ins, menus, and more.  I will be utilizing the \u201cTop Picks\u201d in each community and looking at venue categories to analyze, not only how many food venues show up in the Top Picks, but what type of food makes an appearance as well.  Below is a raw preview of the Top Picks data on an Eastern KY city.\n    </p>\n</div>"
        },
        {
            "cell_type": "code",
            "execution_count": 56,
            "metadata": {},
            "outputs": [],
            "source": "import requests\nfrom pandas.io.json import json_normalize\ndef top_picks(location, limit):\n    url = f'https://api.foursquare.com/v2/venues/search?client_id={client_id}&client_secret={client_secret}&v={version}&near={location}&limit={limit}&q=Top Picks'\n    return requests.get(url).json()"
        },
        {
            "cell_type": "code",
            "execution_count": 61,
            "metadata": {},
            "outputs": [
                {
                    "data": {
                        "text/html": "<div>\n<style scoped>\n    .dataframe tbody tr th:only-of-type {\n        vertical-align: middle;\n    }\n\n    .dataframe tbody tr th {\n        vertical-align: top;\n    }\n\n    .dataframe thead th {\n        text-align: right;\n    }\n</style>\n<table border=\"1\" class=\"dataframe\">\n  <thead>\n    <tr style=\"text-align: right;\">\n      <th></th>\n      <th>categories</th>\n      <th>hasPerk</th>\n      <th>id</th>\n      <th>location</th>\n      <th>name</th>\n      <th>referralId</th>\n    </tr>\n  </thead>\n  <tbody>\n    <tr>\n      <th>0</th>\n      <td>[{'id': '4bf58dd8d48988d16e941735', 'name': 'F...</td>\n      <td>False</td>\n      <td>4bd1b70777b29c744a0c8d82</td>\n      <td>{'address': '3404 Court St', 'lat': 38.4055664...</td>\n      <td>Wendy's</td>\n      <td>v-1576011796</td>\n    </tr>\n    <tr>\n      <th>1</th>\n      <td>[{'id': '4bf58dd8d48988d1ca941735', 'name': 'P...</td>\n      <td>False</td>\n      <td>4cc09acd97bc721e27768c67</td>\n      <td>{'address': '3416 Court St', 'lat': 38.405021,...</td>\n      <td>Little Caesars Pizza</td>\n      <td>v-1576011796</td>\n    </tr>\n    <tr>\n      <th>2</th>\n      <td>[{'id': '52dea92d3cf9994f4e043dbb', 'name': 'D...</td>\n      <td>False</td>\n      <td>5d76ac0f6ced760008e028e6</td>\n      <td>{'address': '3500 Court St', 'lat': 38.4045, '...</td>\n      <td>Family Dollar</td>\n      <td>v-1576011796</td>\n    </tr>\n    <tr>\n      <th>3</th>\n      <td>[{'id': '4bf58dd8d48988d10f951735', 'name': 'P...</td>\n      <td>False</td>\n      <td>4c4e23c19932e21eadb243cd</td>\n      <td>{'address': '3501 Court St', 'lat': 38.404499,...</td>\n      <td>Rite Aid</td>\n      <td>v-1576011796</td>\n    </tr>\n    <tr>\n      <th>4</th>\n      <td>[{'id': '4bf58dd8d48988d118951735', 'name': 'G...</td>\n      <td>False</td>\n      <td>5568ea79498e8665411c0460</td>\n      <td>{'lat': 38.404477771725105, 'lng': -82.6011671...</td>\n      <td>IGA - Craycraft</td>\n      <td>v-1576011796</td>\n    </tr>\n  </tbody>\n</table>\n</div>",
                        "text/plain": "                                          categories  hasPerk  \\\n0  [{'id': '4bf58dd8d48988d16e941735', 'name': 'F...    False   \n1  [{'id': '4bf58dd8d48988d1ca941735', 'name': 'P...    False   \n2  [{'id': '52dea92d3cf9994f4e043dbb', 'name': 'D...    False   \n3  [{'id': '4bf58dd8d48988d10f951735', 'name': 'P...    False   \n4  [{'id': '4bf58dd8d48988d118951735', 'name': 'G...    False   \n\n                         id  \\\n0  4bd1b70777b29c744a0c8d82   \n1  4cc09acd97bc721e27768c67   \n2  5d76ac0f6ced760008e028e6   \n3  4c4e23c19932e21eadb243cd   \n4  5568ea79498e8665411c0460   \n\n                                            location                  name  \\\n0  {'address': '3404 Court St', 'lat': 38.4055664...               Wendy's   \n1  {'address': '3416 Court St', 'lat': 38.405021,...  Little Caesars Pizza   \n2  {'address': '3500 Court St', 'lat': 38.4045, '...         Family Dollar   \n3  {'address': '3501 Court St', 'lat': 38.404499,...              Rite Aid   \n4  {'lat': 38.404477771725105, 'lng': -82.6011671...       IGA - Craycraft   \n\n     referralId  \n0  v-1576011796  \n1  v-1576011796  \n2  v-1576011796  \n3  v-1576011796  \n4  v-1576011796  "
                    },
                    "execution_count": 61,
                    "metadata": {},
                    "output_type": "execute_result"
                }
            ],
            "source": "r = top_picks('catlettsburg ky',10)\n#df = json_normalize(r['response']['venues'])\ndf = pd.DataFrame(r['response']['venues'])\ndf.head()"
        },
        {
            "cell_type": "markdown",
            "metadata": {},
            "source": "### Data Source 3: Geographical Information for Display on Map"
        },
        {
            "cell_type": "markdown",
            "metadata": {},
            "source": "<div style=\"margin: 0 auto; width:1000px;\">\n    <p>\n        Lastly, I will be utilizing GeoJSON files by state and by zip code to display community clustering information directly onto a geographical map, allowing visual inspection of clustering results in a meaningful manner.  Below is a sample map indicating that we will be working with information in the states of Kentucky, Ohio, and West Virginia.\n    </p>\n</div>"
        },
        {
            "cell_type": "code",
            "execution_count": 43,
            "metadata": {},
            "outputs": [],
            "source": "#!conda install -c conda-forge folium=0.5.0 --yes\nimport folium"
        },
        {
            "cell_type": "code",
            "execution_count": 1,
            "metadata": {},
            "outputs": [],
            "source": "f = folium.Figure(width=800, height=600)\nmap = folium.Map(location=[38.309318,-82.648588], zoom_start=6)\n\nfg_state = folium.FeatureGroup(name='States')\nfg_state.add_child(folium.GeoJson(data=geo_kyohwv))\n\nmap.add_child(fg_state)\nmap.add_child(folium.LayerControl())\nf.add_child(map)\nmap"
        },
        {
            "cell_type": "markdown",
            "metadata": {},
            "source": "<img src=\"https://github.com/rsq215/Coursera_Capstone/blob/master/states.PNG?raw=true\" />"
        },
        {
            "cell_type": "markdown",
            "metadata": {},
            "source": "<div id=\"references\"><h1>VI. References</h1></div>"
        },
        {
            "cell_type": "markdown",
            "metadata": {},
            "source": "1. [ProCon: US Obesity Levels by State](https://obesity.procon.org/us-obesity-levels-by-state/)\n2. [FourSquare API](https://developer.foursquare.com/)\n3. [Census.gov API](https://www.census.gov/data/developers/data-sets/acs-5year.html)\n4. [OpenDataDE Zip Code Level GeoJSON](https://github.com/OpenDataDE/State-zip-code-GeoJSON)"
        }
    ],
    "metadata": {
        "kernelspec": {
            "display_name": "Python 3.6",
            "language": "python",
            "name": "python3"
        },
        "language_info": {
            "codemirror_mode": {
                "name": "ipython",
                "version": 3
            },
            "file_extension": ".py",
            "mimetype": "text/x-python",
            "name": "python",
            "nbconvert_exporter": "python",
            "pygments_lexer": "ipython3",
            "version": "3.6.8"
        }
    },
    "nbformat": 4,
    "nbformat_minor": 1
}